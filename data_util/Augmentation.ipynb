{
 "cells": [
  {
   "cell_type": "code",
   "execution_count": 2,
   "id": "f12c019d",
   "metadata": {},
   "outputs": [],
   "source": [
    "import random\n",
    "\n",
    "import cv2\n",
    "from matplotlib import pyplot as plt\n",
    "\n",
    "import albumentations as A\n",
    "\n",
    "from tqdm import tqdm\n",
    "import glob\n",
    "\n",
    "images_path = r\"C:\\Users\\bakthavatchalam\\Desktop\\02_Work_assistance\\DATASET_VERSIONS\\acc_data_set_trails\\images\\\\\"\n",
    "masks_path = r\"C:\\Users\\bakthavatchalam\\Desktop\\02_Work_assistance\\DATASET_VERSIONS\\acc_data_set_trails\\masks\\\\\" \n",
    "images = glob.glob(images_path + \"*.jpg\")\n",
    "masks = glob.glob(masks_path + \"*.png\")"
   ]
  },
  {
   "cell_type": "code",
   "execution_count": 2,
   "id": "ece71120",
   "metadata": {},
   "outputs": [
    {
     "name": "stdout",
     "output_type": "stream",
     "text": [
      "['C:', 'Users', 'bakthavatchalam', 'Desktop', '02_Work_assistance', 'DATASET_VERSIONS', 'acc_data_set_trails', 'images', '3.jpg']\n",
      "C:\\Users\\bakthavatchalam\\Desktop\\02_Work_assistance\\DATASET_VERSIONS\\acc_data_set_trails\\masks\\3.png\n"
     ]
    }
   ],
   "source": [
    "print(images[23].split(\"\\\\\"))\n",
    "print(masks[23])"
   ]
  },
  {
   "cell_type": "code",
   "execution_count": 12,
   "id": "7ccc9270",
   "metadata": {},
   "outputs": [
    {
     "name": "stderr",
     "output_type": "stream",
     "text": [
      "100%|█████████████████████████████████████████████████████████████████████████████████| 71/71 [00:00<00:00, 270.04it/s]\n"
     ]
    }
   ],
   "source": [
    "images_save_path = r\"C:\\Users\\bakthavatchalam\\Desktop\\02_Work_assistance\\DATASET_VERSIONS\\aug_acc_data_set_trails\\images\\\\\"\n",
    "masks_save_path = r\"C:\\Users\\bakthavatchalam\\Desktop\\02_Work_assistance\\DATASET_VERSIONS\\aug_acc_data_set_trails\\masks\\\\\"\n",
    "\n",
    "for img in tqdm(range(len(images))):\n",
    "    image = cv2.imread(images[img])\n",
    "    mask = cv2.imread(masks[img])\n",
    "#     pre = \"RHFlip\"\n",
    "#     pre = \"RVFlip\"\n",
    "#     pre = \"RBC\"\n",
    "    pre = \"RCS\"    \n",
    "#     pre = \"RMCHFlip\"\n",
    "\n",
    "    file_name = images[img].split('\\\\')[-1]\n",
    "    file_name = file_name.split(\".\")[0]\n",
    "#     aug = A.HorizontalFlip(p=1)\n",
    "#     aug = A.VerticalFlip(p=1)\n",
    "#     aug = A.RandomBrightnessContrast(p=1)\n",
    "    aug = A.Compose([ A.ChannelShuffle(p=1),], p=1)\n",
    "#     aug= A.Compose([\n",
    "#     A.CLAHE(p=1),\n",
    "#     A.HueSaturationValue(hue_shift_limit=20, sat_shift_limit=50, val_shift_limit=50, p=1),\n",
    "# ], p=1)\n",
    "\n",
    "\n",
    "#     transform = A.Compose([\n",
    "#         A.RandomRotate90(p=1),\n",
    "#         A.RandomCrop(width=450, height=650),\n",
    "#     ])\n",
    "    augmented = aug(image=image, mask=mask)\n",
    "#     augmented = transform(image=image, mask=mask)\n",
    "    image_h_flipped = augmented['image']\n",
    "    mask_h_flipped = augmented['mask']\n",
    "    cv2.imwrite(images_save_path + pre + file_name + \".jpg\",image_h_flipped)\n",
    "    cv2.imwrite(masks_save_path + pre + file_name + \".png\",mask_h_flipped)\n",
    "    \n",
    "    \n",
    "\n",
    "# visualize(image_h_flipped, mask_h_flipped, original_image=image, original_mask=mask)"
   ]
  },
  {
   "cell_type": "code",
   "execution_count": null,
   "id": "d8121fa0",
   "metadata": {},
   "outputs": [],
   "source": []
  }
 ],
 "metadata": {
  "kernelspec": {
   "display_name": "Python 3 (ipykernel)",
   "language": "python",
   "name": "python3"
  },
  "language_info": {
   "codemirror_mode": {
    "name": "ipython",
    "version": 3
   },
   "file_extension": ".py",
   "mimetype": "text/x-python",
   "name": "python",
   "nbconvert_exporter": "python",
   "pygments_lexer": "ipython3",
   "version": "3.7.11"
  }
 },
 "nbformat": 4,
 "nbformat_minor": 5
}
